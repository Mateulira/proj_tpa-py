{
 "cells": [
  {
   "cell_type": "markdown",
   "metadata": {},
   "source": [
    "# Aula 08 - Introdução a Estrutura de Dados"
   ]
  },
  {
   "cell_type": "markdown",
   "metadata": {},
   "source": [
    "## Fila (FIFO) "
   ]
  },
  {
   "cell_type": "code",
   "execution_count": 6,
   "metadata": {},
   "outputs": [],
   "source": [
    "class Fila:\n",
    "    def __init__(self):\n",
    "        self.fila = []\n",
    "        \n",
    "    def enfileirar(self, item):\n",
    "        self.fila.append(item)\n",
    "        print(f\"{item} foi adicionado à fila\")\n",
    "    \n",
    "    def vazio(self):\n",
    "        return len(self.fila) == 0\n",
    "    \n",
    "    def desinfileirar(self):\n",
    "        if not self.vazio():\n",
    "            item = self.fila.pop(0)\n",
    "            print(f\"{item} foi removido da fila\")\n",
    "        else:\n",
    "            print(\"A lista está vazia\")\n",
    "            return None\n",
    "        \n",
    "    def tamanho(self):\n",
    "        return len(self.fila)            \n",
    "        \n",
    "        "
   ]
  },
  {
   "cell_type": "markdown",
   "metadata": {},
   "source": [
    "### Atividade 1"
   ]
  },
  {
   "cell_type": "markdown",
   "metadata": {},
   "source": [
    "> Joãozinho está no mercado entre Vó Maria e Caique que chegou logo atrás para ir ao caixa. Tendo como fila a estrutura de dados. Adicione os três a fila nessa ordem e atenda a Vó Maria, e depois mostre o tamanho dela."
   ]
  },
  {
   "cell_type": "code",
   "execution_count": 7,
   "metadata": {},
   "outputs": [
    {
     "name": "stdout",
     "output_type": "stream",
     "text": [
      "Vó Maria foi adicionado à fila\n",
      "Joãozinho foi adicionado à fila\n",
      "Caique foi adicionado à fila\n",
      "Vó Maria foi removido da fila\n"
     ]
    },
    {
     "data": {
      "text/plain": [
       "2"
      ]
     },
     "execution_count": 7,
     "metadata": {},
     "output_type": "execute_result"
    }
   ],
   "source": [
    "fila = Fila()\n",
    "fila.enfileirar('Vó Maria')\n",
    "fila.enfileirar('Joãozinho')\n",
    "fila.enfileirar('Caique')\n",
    "fila.desinfileirar()\n",
    "fila.tamanho()"
   ]
  }
 ],
 "metadata": {
  "kernelspec": {
   "display_name": "Python 3",
   "language": "python",
   "name": "python3"
  },
  "language_info": {
   "codemirror_mode": {
    "name": "ipython",
    "version": 3
   },
   "file_extension": ".py",
   "mimetype": "text/x-python",
   "name": "python",
   "nbconvert_exporter": "python",
   "pygments_lexer": "ipython3",
   "version": "3.12.2"
  }
 },
 "nbformat": 4,
 "nbformat_minor": 2
}
