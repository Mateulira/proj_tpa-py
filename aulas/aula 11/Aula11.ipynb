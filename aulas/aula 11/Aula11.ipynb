{
 "cells": [
  {
   "cell_type": "markdown",
   "metadata": {},
   "source": [
    "# Atividade 11 - Estudo de Caso Supermercado"
   ]
  },
  {
   "cell_type": "code",
   "execution_count": null,
   "metadata": {},
   "outputs": [
    {
     "ename": "KeyError",
     "evalue": "'Caixa Preferencial para Idosos'",
     "output_type": "error",
     "traceback": [
      "\u001b[1;31m---------------------------------------------------------------------------\u001b[0m",
      "\u001b[1;31mKeyError\u001b[0m                                  Traceback (most recent call last)",
      "Cell \u001b[1;32mIn[6], line 35\u001b[0m\n\u001b[0;32m     28\u001b[0m filas \u001b[38;5;241m=\u001b[39m {\n\u001b[0;32m     29\u001b[0m     \u001b[38;5;124m\"\u001b[39m\u001b[38;5;124mCaixa Rápido\u001b[39m\u001b[38;5;124m\"\u001b[39m: [],\n\u001b[0;32m     30\u001b[0m     \u001b[38;5;124m\"\u001b[39m\u001b[38;5;124mCaixa Idosos\u001b[39m\u001b[38;5;124m\"\u001b[39m: [],\n\u001b[0;32m     31\u001b[0m     \u001b[38;5;124m\"\u001b[39m\u001b[38;5;124mCaixa Normal\u001b[39m\u001b[38;5;124m\"\u001b[39m: []\n\u001b[0;32m     32\u001b[0m }\n\u001b[0;32m     34\u001b[0m \u001b[38;5;28;01mfor\u001b[39;00m cliente \u001b[38;5;129;01min\u001b[39;00m clientes:\n\u001b[1;32m---> 35\u001b[0m     \u001b[43mfilas\u001b[49m\u001b[43m[\u001b[49m\u001b[43mfila\u001b[49m\u001b[43m]\u001b[49m\u001b[38;5;241m.\u001b[39mappend(cliente)\n\u001b[0;32m     36\u001b[0m     fila \u001b[38;5;241m=\u001b[39m alocar_fila(cliente)\n\u001b[0;32m     38\u001b[0m \u001b[38;5;28;01mfor\u001b[39;00m fila, lista_clientes \u001b[38;5;129;01min\u001b[39;00m filas\u001b[38;5;241m.\u001b[39mitems():\n",
      "\u001b[1;31mKeyError\u001b[0m: 'Caixa Preferencial para Idosos'"
     ]
    }
   ],
   "source": [
    "class Cliente:\n",
    "    def __init__(self, nome, idade, unidades):\n",
    "        self.nome = nome\n",
    "        self.idade = idade\n",
    "        self.unidades = unidades\n",
    "\n",
    "def alocar_fila(cliente):\n",
    "    if cliente.idade >= 60:\n",
    "        return \"Caixa Preferencial para Idosos\"\n",
    "    elif cliente.unidades <= 20:\n",
    "        return \"Caixa Rápido\"\n",
    "    else:\n",
    "        return \"Caixa Normal\"\n",
    "\n",
    "clientes = [\n",
    "    Cliente(\"Rodrigo\", 52, 20),     \n",
    "    Cliente(\"Garro\", 26, 10),    \n",
    "    Cliente(\"Yuri\", 23, 9),    \n",
    "    Cliente(\"Alberto\", 70, 18),     \n",
    "    Cliente(\"Hugo\", 25, 1),    \n",
    "    Cliente(\"Souza\", 50, 2), \n",
    "    Cliente(\"Matheuzinho\", 24, 2),    \n",
    "    Cliente(\"Memphis\", 30, 94),   \n",
    "    Cliente(\"Coronado\", 32, 77),   \n",
    "    Cliente(\"Carrillo\", 33, 19),  \n",
    "]\n",
    "\n",
    "filas = {\n",
    "    \"Caixa Rápido\": [],\n",
    "    \"Caixa Idosos\": [],\n",
    "    \"Caixa Normal\": []\n",
    "}\n",
    "\n",
    "for cliente in clientes:\n",
    "    fila = alocar_fila(cliente)\n",
    "    filas[fila].append(cliente)\n",
    "\n",
    "for fila, lista_clientes in filas.items():\n",
    "    print(f\"\\n{fila}:\")\n",
    "    for cliente in lista_clientes:\n",
    "        print(f\"  - {cliente.nome} (Idade: {cliente.idade}, Unidades: {cliente.unidades})\")\n"
   ]
  }
 ],
 "metadata": {
  "kernelspec": {
   "display_name": "Python 3",
   "language": "python",
   "name": "python3"
  },
  "language_info": {
   "codemirror_mode": {
    "name": "ipython",
    "version": 3
   },
   "file_extension": ".py",
   "mimetype": "text/x-python",
   "name": "python",
   "nbconvert_exporter": "python",
   "pygments_lexer": "ipython3",
   "version": "3.12.2"
  }
 },
 "nbformat": 4,
 "nbformat_minor": 2
}
