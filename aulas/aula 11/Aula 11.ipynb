{
 "cells": [
  {
   "cell_type": "markdown",
   "metadata": {},
   "source": [
    "EXERCICIO"
   ]
  },
  {
   "cell_type": "code",
   "execution_count": null,
   "metadata": {},
   "outputs": [
    {
     "name": "stdout",
     "output_type": "stream",
     "text": [
      "Rodrigo Adicionado ao caixa rápido\n",
      "Garro Adicionado ao caixa rápido\n",
      "Yuri Adicionado ao caixa rápido\n",
      "Alberto Adicionado ao caixa de idosos\n",
      "Hugo Adicionado ao caixa rápido\n",
      "Souza Adicionado ao caixa rápido\n",
      "Matheuzinho Adicionado ao caixa rápido\n",
      "Memphis Adicionado ao caixa normal\n",
      "Coronado Adicionado ao caixa normal\n",
      "Carrillo Adicionado ao caixa rápido\n",
      "\n",
      "Fila do Caixa Rápido:\n",
      "Nome: Rodrigo, Idade: 52, Unidades: 20\n",
      "Nome: Garro, Idade: 26, Unidades: 10\n",
      "Nome: Yuri, Idade: 23, Unidades: 9\n",
      "Nome: Hugo, Idade: 25, Unidades: 1\n",
      "Nome: Souza, Idade: 50, Unidades: 2\n",
      "Nome: Matheuzinho, Idade: 24, Unidades: 2\n",
      "Nome: Carrillo, Idade: 33, Unidades: 19\n",
      "\n",
      "Fila do Caixa para Idosos:\n",
      "Nome: Alberto, Idade: 70, Unidades: 18\n",
      "\n",
      "Fila do Caixa para Demais Clientes:\n",
      "Nome: Memphis, Idade: 30, Unidades: 94\n",
      "Nome: Coronado, Idade: 32, Unidades: 77\n"
     ]
    }
   ],
   "source": [
    "class supermercado:\n",
    "    def __init__(self):\n",
    "        self.caixa_rapido = []\n",
    "        self.caixa_idosos = []\n",
    "        self.caixa_normal = []\n",
    "\n",
    "    def adicionar_clientes(self, nome, idade, unidades):\n",
    "        if idade >= 60:\n",
    "            self.caixa_idosos.append((nome, idade, unidades))\n",
    "            print(f\"{nome} Adicionado ao caixa de idosos\")\n",
    "        elif unidades <= 20:\n",
    "            self.caixa_rapido.append((nome, idade, unidades))\n",
    "            print(f\"{nome} Adicionado ao caixa rápido\")\n",
    "        else:\n",
    "            self.caixa_normal.append((nome, idade, unidades))\n",
    "            print(f\"{nome} Adicionado ao caixa normal\")\n",
    "\n",
    "    def mostrar_filas(self):\n",
    "        print(\"\\nFila do Caixa Rápido:\")\n",
    "        for cliente in self.caixa_rapido:\n",
    "            print(f\"Nome: {cliente[0]}, Idade: {cliente[1]}, Unidades: {cliente[2]}\")\n",
    "\n",
    "        print(\"\\nFila do Caixa para Idosos:\")\n",
    "        for cliente in self.caixa_idosos:\n",
    "            print(f\"Nome: {cliente[0]}, Idade: {cliente[1]}, Unidades: {cliente[2]}\")\n",
    "\n",
    "        print(\"\\nFila do Caixa para Demais Clientes:\")\n",
    "        for cliente in self.caixa_demais:\n",
    "            print(f\"Nome: {cliente[0]}, Idade: {cliente[1]}, Unidades: {cliente[2]}\")\n",
    "\n",
    "if __name__ == \"__main__\":\n",
    "    mercado = Mercado()\n",
    "\n",
    "\n",
    "\n",
    "clientes = [\n",
    "    (\"Rodrigo\", 52, 20),     \n",
    "    (\"Garro\", 26, 10),    \n",
    "    (\"Yuri\", 23, 9),    \n",
    "    (\"Alberto\", 70, 18),     \n",
    "    (\"Hugo\", 25, 1),    \n",
    "    (\"Souza\", 50, 2), \n",
    "    (\"Matheuzinho\", 24, 2),    \n",
    "    (\"Memphis\", 30, 94),   \n",
    "    (\"Coronado\", 32, 77),   \n",
    "    (\"Carrillo\", 33, 19),\n",
    "]\n",
    "\n",
    "for cliente in clientes:\n",
    "    mercado.adicionar_clientes(cliente[0], cliente[1], cliente[2])\n",
    "\n",
    "mercado.mostrar_filas()"
   ]
  },
  {
   "cell_type": "code",
   "execution_count": null,
   "metadata": {},
   "outputs": [],
   "source": []
  }
 ],
 "metadata": {
  "kernelspec": {
   "display_name": "Python 3",
   "language": "python",
   "name": "python3"
  },
  "language_info": {
   "codemirror_mode": {
    "name": "ipython",
    "version": 3
   },
   "file_extension": ".py",
   "mimetype": "text/x-python",
   "name": "python",
   "nbconvert_exporter": "python",
   "pygments_lexer": "ipython3",
   "version": "3.12.2"
  }
 },
 "nbformat": 4,
 "nbformat_minor": 2
}
